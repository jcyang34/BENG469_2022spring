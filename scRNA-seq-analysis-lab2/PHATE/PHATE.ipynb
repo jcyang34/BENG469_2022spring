{
 "cells": [
  {
   "cell_type": "markdown",
   "metadata": {},
   "source": [
    "### Install PHATE"
   ]
  },
  {
   "cell_type": "markdown",
   "metadata": {},
   "source": [
    "Potential of Heat-diffusion for Affinity-based Trajectory Embedding (PHATE) embeds high dimensional single-cell data into two or three dimensions for visualization of biological progressions."
   ]
  },
  {
   "cell_type": "code",
   "execution_count": null,
   "metadata": {},
   "outputs": [],
   "source": [
    "!pip install phate scprep"
   ]
  },
  {
   "cell_type": "code",
   "execution_count": null,
   "metadata": {},
   "outputs": [],
   "source": [
    "import pandas as pd\n",
    "import numpy as np\n",
    "import phate\n",
    "import os\n",
    "import scprep\n",
    "import matplotlib.pyplot as plt\n",
    "import sklearn.preprocessing\n",
    "\n",
    "data_path = \"/Users/Mingyu/Desktop/Assignment4-part2/PHATE/datasets/\"\n",
    "print(data_path)\n",
    "\n",
    "# matplotlib settings for Jupyter notebooks only\n",
    "%matplotlib inline"
   ]
  },
  {
   "cell_type": "markdown",
   "metadata": {},
   "source": [
    "### Load the dataset"
   ]
  },
  {
   "cell_type": "code",
   "execution_count": null,
   "metadata": {
    "scrolled": true
   },
   "outputs": [],
   "source": [
    "sparse=True\n",
    "T1 = scprep.io.load_10X(os.path.join(data_path), sparse=sparse, gene_labels= \"both\")\n",
    "pheno_data = pd.read_csv(os.path.join(data_path, \"skeletal_pheno.tsv\"),sep='\\t')"
   ]
  },
  {
   "cell_type": "markdown",
   "metadata": {},
   "source": [
    "### Preprocessing"
   ]
  },
  {
   "cell_type": "markdown",
   "metadata": {},
   "source": [
    "Removing genes that are expressed in relatively few cells."
   ]
  },
  {
   "cell_type": "code",
   "execution_count": null,
   "metadata": {},
   "outputs": [],
   "source": [
    "T1 = scprep.filter.filter_rare_genes(T1, min_cells=10)"
   ]
  },
  {
   "cell_type": "markdown",
   "metadata": {},
   "source": [
    "#### Normalization"
   ]
  },
  {
   "cell_type": "code",
   "execution_count": null,
   "metadata": {},
   "outputs": [],
   "source": [
    "T1 = scprep.normalize.library_size_normalize(T1)"
   ]
  },
  {
   "cell_type": "markdown",
   "metadata": {},
   "source": [
    "#### Transformation"
   ]
  },
  {
   "cell_type": "markdown",
   "metadata": {},
   "source": [
    "In scRNA-seq analysis, the data is often log-transformed. This typically requires the addition of some small value to avoid taking log(0). We avoid this issue entirely by instead taking the square root transform. The square root function has a similar form as the log function with the added benefit of being stable at 0."
   ]
  },
  {
   "cell_type": "code",
   "execution_count": null,
   "metadata": {},
   "outputs": [],
   "source": [
    "T1 = scprep.transform.sqrt(T1)"
   ]
  },
  {
   "cell_type": "markdown",
   "metadata": {},
   "source": [
    "### Embedding Data Using PHATE"
   ]
  },
  {
   "cell_type": "markdown",
   "metadata": {},
   "source": [
    "We'll just use the default parameters for now, but the following parameters can be tuned (read our documentation at phate.readthedocs.io to learn more):\n",
    "\n",
    "* `knn` : Number of nearest neighbors (default: 5). Increase this (e.g. to 20) if your PHATE embedding appears very disconnected. You should also consider increasing knn if your dataset is extremely large (e.g. >100k cells)\n",
    "* `decay` : Alpha decay (default: 15). Decreasing decay increases connectivity on the graph, increasing decay decreases connectivity. This rarely needs to be tuned. Set it to None for a k-nearest neighbors kernel.\n",
    "* `gamma` : Informational distance constant (default: 1). gamma=1 gives the PHATE log potential, but other informational distances can be interesting. If most of the points seem concentrated in one section of the plot, you can try gamma=0."
   ]
  },
  {
   "cell_type": "code",
   "execution_count": null,
   "metadata": {
    "scrolled": true
   },
   "outputs": [],
   "source": [
    "phate_operator = phate.PHATE(n_jobs=-2)\n",
    "Y_phate = phate_operator.fit_transform(T1)"
   ]
  },
  {
   "cell_type": "markdown",
   "metadata": {},
   "source": [
    "#### Plotting PHATE with a scatter plot"
   ]
  },
  {
   "cell_type": "code",
   "execution_count": null,
   "metadata": {
    "scrolled": true
   },
   "outputs": [],
   "source": [
    "scprep.plot.scatter2d(Y_phate,c = [\"%4.1f\" % x for x in (pheno_data.loc[T1.index,'day'])] , figsize=(8,6), cmap=\"Spectral\",\n",
    "                      ticks=False, label_prefix=\"PHATE\")"
   ]
  },
  {
   "cell_type": "code",
   "execution_count": null,
   "metadata": {
    "scrolled": true
   },
   "outputs": [],
   "source": [
    "#phate_operator.set_params(knn=10)\n",
    "#Y_phate = phate_operator.fit_transform(T1)"
   ]
  },
  {
   "cell_type": "code",
   "execution_count": null,
   "metadata": {},
   "outputs": [],
   "source": [
    "#scprep.plot.scatter2d(Y_phate,c = [\"%4.1f\" % x for x in (pheno_data.loc[T1.index,'day'])], \n",
    "#                      figsize=(8,6), cmap=\"Spectral\",ticks=False, label_prefix=\"PHATE\")"
   ]
  },
  {
   "cell_type": "markdown",
   "metadata": {},
   "source": [
    "####  Visualize the embedding in 3D"
   ]
  },
  {
   "cell_type": "code",
   "execution_count": null,
   "metadata": {},
   "outputs": [],
   "source": [
    "phate_operator.set_params(n_components=3)\n",
    "Y_phate_3d = phate_operator.transform()\n",
    "scprep.plot.scatter3d(Y_phate_3d, c = [\"%4.1f\" % x for x in (pheno_data.loc[T1.index,'day'])]  , figsize=(8,6), cmap=\"Spectral\",\n",
    "                      ticks=False, label_prefix=\"PHATE\")\n"
   ]
  },
  {
   "cell_type": "markdown",
   "metadata": {},
   "source": [
    "#### Create a gif showing the rotating 3D plot"
   ]
  },
  {
   "cell_type": "code",
   "execution_count": null,
   "metadata": {},
   "outputs": [],
   "source": [
    "scprep.plot.rotate_scatter3d(Y_phate_3d, c = [\"%4.1f\" % x for x in (pheno_data.loc[T1.index,'day'])] , \n",
    "                             figsize=(8,6), cmap=\"Spectral\",\n",
    "                             ticks=False, label_prefix=\"PHATE\")\n",
    "\n",
    "# to save as a gif:\n",
    "# >>> scprep.plot.rotate_scatter3d(Y_phate_3d, c=sample_labels, \n",
    "# ...                              figsize=(8,6), cmap=\"Spectral\",\n",
    "# ...ticks=False, label_prefix=\"PHATE\", filename=\"phate.gif\")\n",
    "# to save as an mp4:\n",
    "# >>> scprep.plot.rotate_scatter3d(Y_phate_3d, c=sample_labels, \n",
    "# ...                              figsize=(8,6), cmap=\"Spectral\",\n",
    "# ...                              ticks=False, label_prefix=\"PHATE\", filename=\"phate.mp4\")"
   ]
  },
  {
   "cell_type": "markdown",
   "metadata": {},
   "source": [
    "### Comparison with other visualization tools"
   ]
  },
  {
   "cell_type": "code",
   "execution_count": null,
   "metadata": {},
   "outputs": [],
   "source": [
    "import sklearn.decomposition # PCA\n",
    "import sklearn.manifold # t-SNE\n",
    "import umap #UMAP\n",
    "import time\n",
    "\n",
    "\n",
    "start = time.time()\n",
    "pca_operator = sklearn.decomposition.PCA(n_components=2)\n",
    "Y_pca = pca_operator.fit_transform(np.array(T1))\n",
    "end = time.time()\n",
    "print(\"Embedded PCA in {:.2f} seconds.\".format(end-start))\n",
    "\n",
    "start = time.time()\n",
    "pca_operator = sklearn.decomposition.PCA(n_components=100)\n",
    "tsne_operator = sklearn.manifold.TSNE(n_components=2)\n",
    "Y_tsne = tsne_operator.fit_transform(pca_operator.fit_transform(np.array(T1)))\n",
    "end = time.time()\n",
    "print(\"Embedded t-SNE in {:.2f} seconds.\".format(end-start))\n",
    "\n",
    "start = time.time()\n",
    "Y_umap = umap.UMAP().fit_transform(pca_operator.fit_transform(np.array(T1)))\n",
    "end = time.time()\n",
    "print(\"Embedded UMAP in {:.2f} seconds.\".format(end-start))"
   ]
  },
  {
   "cell_type": "code",
   "execution_count": null,
   "metadata": {},
   "outputs": [],
   "source": [
    "fig, (ax1, ax2, ax3, ax4) = plt.subplots(1,4, figsize=(16, 5))\n",
    "\n",
    "#plotting PCA\n",
    "scprep.plot.scatter2d(Y_pca, label_prefix=\"PC\", title=\"PCA\",\n",
    "                      c = [\"%4.1f\" % x for x in (pheno_data.loc[T1.index,'day'])] , ticks=False, cmap='Spectral', ax=ax1)\n",
    "\n",
    "#plotting tSNE\n",
    "scprep.plot.scatter2d(Y_tsne, label_prefix=\"t-SNE\", title=\"t-SNE\", legend=False,\n",
    "                      c = [\"%4.1f\" % x for x in (pheno_data.loc[T1.index,'day'])] , ticks=False, cmap='Spectral', ax=ax2)\n",
    "\n",
    "#plotting UMAP\n",
    "scprep.plot.scatter2d(Y_umap, label_prefix=\"UMAP\", title=\"UMAP\", legend=False,\n",
    "                      c = [\"%4.1f\" % x for x in (pheno_data.loc[T1.index,'day'])] , ticks=False, cmap='Spectral', ax=ax3)\n",
    "\n",
    "#plotting PHATE\n",
    "scprep.plot.scatter2d(Y_phate, label_prefix=\"PHATE\", title=\"PHATE\", legend=False,\n",
    "                      c = [\"%4.1f\" % x for x in (pheno_data.loc[T1.index,'day'])] , ticks=False, cmap='Spectral', ax=ax4)\n",
    "\n",
    "\n",
    "plt.tight_layout()\n",
    "plt.show()"
   ]
  },
  {
   "cell_type": "markdown",
   "metadata": {},
   "source": [
    "## Available in scanpy (as a external API)"
   ]
  },
  {
   "cell_type": "code",
   "execution_count": null,
   "metadata": {},
   "outputs": [],
   "source": [
    "import scanpy as sc\n",
    "import scanpy.external as sce"
   ]
  },
  {
   "cell_type": "code",
   "execution_count": null,
   "metadata": {},
   "outputs": [],
   "source": [
    "MOCAdata = sc.read_h5ad(os.path.join(data_path, \"MOCA_results.h5ad\"))"
   ]
  },
  {
   "cell_type": "code",
   "execution_count": null,
   "metadata": {},
   "outputs": [],
   "source": [
    "sce.tl.phate(MOCAdata)"
   ]
  },
  {
   "cell_type": "code",
   "execution_count": null,
   "metadata": {},
   "outputs": [],
   "source": [
    "plt.rcParams['figure.figsize'] = (5,5)\n",
    "\n",
    "sce.pl.phate(MOCAdata, color='louvain')"
   ]
  },
  {
   "cell_type": "code",
   "execution_count": null,
   "metadata": {},
   "outputs": [],
   "source": [
    "sc.pl.tsne(MOCAdata, color='louvain')"
   ]
  },
  {
   "cell_type": "code",
   "execution_count": null,
   "metadata": {
    "scrolled": true
   },
   "outputs": [],
   "source": [
    "sc.pl.umap(MOCAdata, color='louvain')"
   ]
  },
  {
   "cell_type": "code",
   "execution_count": null,
   "metadata": {},
   "outputs": [],
   "source": [
    "MOCAdata.uns['iroot'] = np.argmax(MOCAdata.obsm['X_phate'][:,0])"
   ]
  },
  {
   "cell_type": "code",
   "execution_count": null,
   "metadata": {},
   "outputs": [],
   "source": [
    "sc.tl.diffmap(MOCAdata)"
   ]
  },
  {
   "cell_type": "code",
   "execution_count": null,
   "metadata": {},
   "outputs": [],
   "source": [
    "sc.tl.dpt(MOCAdata, n_branchings=2)"
   ]
  },
  {
   "cell_type": "code",
   "execution_count": null,
   "metadata": {},
   "outputs": [],
   "source": [
    "sce.pl.phate(MOCAdata, color = 'dpt_pseudotime')"
   ]
  },
  {
   "cell_type": "code",
   "execution_count": null,
   "metadata": {},
   "outputs": [],
   "source": [
    "sce.pl.phate(MOCAdata, color = 'dpt_groups')"
   ]
  },
  {
   "cell_type": "code",
   "execution_count": null,
   "metadata": {},
   "outputs": [],
   "source": [
    "ax = scprep.plot.jitter(MOCAdata.obs['leiden'], \n",
    "                        MOCAdata.obs['dpt_pseudotime'], \n",
    "                        c=MOCAdata.obs['dpt_groups'], \n",
    "                        legend_anchor=(1,1),\n",
    "                       figsize=(8,4))\n",
    "\n",
    "ax.set_xticklabels(ax.get_xticklabels(), rotation=45, ha='right')\n",
    "scprep.plot.utils.shift_ticklabels(ax.xaxis, dx=0.15)"
   ]
  }
 ],
 "metadata": {
  "kernelspec": {
   "display_name": "Python 3",
   "language": "python",
   "name": "python3"
  },
  "language_info": {
   "codemirror_mode": {
    "name": "ipython",
    "version": 3
   },
   "file_extension": ".py",
   "mimetype": "text/x-python",
   "name": "python",
   "nbconvert_exporter": "python",
   "pygments_lexer": "ipython3",
   "version": "3.7.3"
  }
 },
 "nbformat": 4,
 "nbformat_minor": 2
}
